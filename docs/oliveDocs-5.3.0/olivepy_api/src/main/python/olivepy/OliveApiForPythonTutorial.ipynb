{
 "cells": [
  {
   "cell_type": "markdown",
   "metadata": {},
   "source": [
    "# Olive API for Python Tutorial \n",
    "\n",
    "This tutorial explains how to use the Olive API for Python to access the Olive server.  This is a new feature in Olive 5.0 and can be used to write your own Python scripts.\n",
    "\n",
    "This interface is client-server oriented.  You are writing a client, which will send requests to the server.  The basic flow is to:\n",
    "1. Create a client object.\n",
    "2. Connect to the server.\n",
    "3. Send one or more requests the server.\n",
    "4. Disconnect from the server.\n",
    "\n",
    "Important notes about this library:\n",
    "* Olive 5.0 uses Python 3.  The interface is tested with Python 3.8.1 on Windows and 3.6.7 on Linux, but should work with all 3.x versions on all platforms.\n",
    "* The python directory where this source code is located must be in your PYTHONHOME environment variable.\n",
    "* The Olive runtime must also be in your PYTHONHOME.\n",
    "* There are no timeouts, so if your request \"hangs\" forever, that usually means that the server is not running or is not running on the machine or port you have connected to.\n",
    "* Most examples do not handle server side exceptions. See the Error Handling example for one that does.\n",
    "\n",
    "List of Examples\n",
    "\n",
    "- Quick Start Examples\n",
    "    - First Example: Connect and Run A Frame Analysis Using the SAD Plugin\n",
    "    - Second Example: Enroll and Run A Region Analysis Using the SDD Plugin\n",
    "- Multi Threaded / Async Example\n",
    "- Specific Examples\n",
    "\n",
    "# Quick Start Examples\n",
    "\n",
    "These examples are designed to get you started quickly."
   ]
  },
  {
   "cell_type": "markdown",
   "metadata": {},
   "source": [
    "## First Example: Connect and Run A Frame Analysis Using the SAD Plugin\n",
    "SAD stands for Sound Automated Detection <br>\n",
    "The simplest example is to connected to the server, have it do\n",
    "a speach detection, using the SAD plugin, print what it found,\n",
    "and then disconnect from the server.import olive.oliveclient as oc"
   ]
  },
  {
   "cell_type": "code",
   "execution_count": 1,
   "metadata": {},
   "outputs": [],
   "source": [
    "import olivepy.api.oliveclient as oc"
   ]
  },
  {
   "cell_type": "markdown",
   "metadata": {},
   "source": [
    "The argument is a name, and can be anything. <br>\n",
    "If you want to change the port or run the server on a different machine, see below."
   ]
  },
  {
   "cell_type": "code",
   "execution_count": 2,
   "metadata": {},
   "outputs": [],
   "source": [
    "client = oc.OliveClient('testcient')\n",
    "client.connect()"
   ]
  },
  {
   "cell_type": "markdown",
   "metadata": {},
   "source": [
    "Client.connect does not return anything, so we check success like this:"
   ]
  },
  {
   "cell_type": "code",
   "execution_count": 3,
   "metadata": {},
   "outputs": [],
   "source": [
    "if not client.is_connected():\n",
    "    print('Connection failed.  Is the server up and running?')\n",
    "    quit(1)"
   ]
  },
  {
   "cell_type": "markdown",
   "metadata": {},
   "source": [
    "In this example we get frame data from a SAD request. <br>\n",
    "The first argument is the plugin name. <br>\n",
    "The second argument is the domain name within that plugin. <br>\n",
    "The third agument is the path to the audio file, relative to the server. <br>\n",
    "*Note: This path is relative to where the server is running, not the client.* <br>"
   ]
  },
  {
   "cell_type": "code",
   "execution_count": null,
   "metadata": {},
   "outputs": [],
   "source": [
    "frames = client.analyze_frames('sad-dnn-v6b-py3', 'multi-v1', 'doc\\TwoSpeakers.wav')"
   ]
  },
  {
   "cell_type": "markdown",
   "metadata": {},
   "source": [
    "The analyze_frames function returns an array of numbers."
   ]
  },
  {
   "cell_type": "code",
   "execution_count": null,
   "metadata": {},
   "outputs": [],
   "source": [
    "num_frames = len(frames)\n",
    "print('Got results for %d frames.' % num_frames)\n",
    "if num_frames > 4:\n",
    "    print('First two results are %f %f and last two are %f %f.' % (frames[0], frames[1], frames[-2], frames[-1]))\n",
    "elif num_frames > 0:\n",
    "    print('First result is %f and last is %f.' % (frames[0], frames[-1]))"
   ]
  },
  {
   "cell_type": "markdown",
   "metadata": {},
   "source": [
    "Or you can iterate through it."
   ]
  },
  {
   "cell_type": "code",
   "execution_count": null,
   "metadata": {},
   "outputs": [],
   "source": [
    "sum = 0.0\n",
    "for frame in frames:\n",
    "    sum += frame\n",
    "print('sum of frame values %f.' % sum)"
   ]
  },
  {
   "cell_type": "markdown",
   "metadata": {},
   "source": [
    "And if we are not going to do any more analysis, we disconnect from the server.\n",
    "This function does not return anything."
   ]
  },
  {
   "cell_type": "code",
   "execution_count": null,
   "metadata": {},
   "outputs": [],
   "source": [
    "client.disconnect()"
   ]
  },
  {
   "cell_type": "markdown",
   "metadata": {},
   "source": [
    "### First Example: All The Code"
   ]
  },
  {
   "cell_type": "code",
   "execution_count": null,
   "metadata": {},
   "outputs": [],
   "source": [
    "import olivepy.api.oliveclient as oc\n",
    "client = oc.OliveClient('testcient')\n",
    "client.connect()\n",
    "if not client.is_connected():\n",
    "    print('Connection failed.  Is the server up and running?')\n",
    "    quit(1)\n",
    "num_frames = len(frames)\n",
    "print('Got results for %d frames.' % num_frames)\n",
    "if num_frames > 4:\n",
    "    print('First two results are %2.4f %2.4f, last two are %2.4f %2.4f.' % (frames[0], frames[1], frames[-2], frames[-1]))\n",
    "elif num_frames > 0:\n",
    "    print('First result is %2.4f and last is %2.4f.' % (frames[0], frames[-1]\n",
    "client.disconnect()                                                 \n",
    "                                                  "
   ]
  },
  {
   "cell_type": "markdown",
   "metadata": {},
   "source": [
    "## Connection Details\n",
    "\n",
    "The following code opens the client, which will be used for the rst of the examples here. <br>\n",
    "The three extra arguments to OliveClient specify the machine running the server, the port number and a timeout. <br>\n",
    "*Note: OliveClient creation takes an optional timeout argument, but it is not current used.* <br>\n",
    "*Note: Connect takes an optional argument but it is not currently supported.* <br>"
   ]
  },
  {
   "cell_type": "code",
   "execution_count": null,
   "metadata": {},
   "outputs": [],
   "source": [
    "client = oc.OliveClient('testcient', 'localhost', 5588)\n",
    "client.connect()\n",
    "if not client.is_connected():\n",
    "    print('Connection failed.  Is the server up and running?')\n",
    "    quit(1)\n",
    "# In the next line, you must set the plugin, domain, and wav file to the \n",
    "# right names for your environment.\n",
    "frames = client.analyze_frames('sad-dnn-v6b-py3', 'multi-v1', 'TwoSpeakers.wav')    "
   ]
  },
  {
   "cell_type": "markdown",
   "metadata": {},
   "source": [
    "## Second Example: Enroll and Run A Region Analysis Using the SDD Plugin\n",
    "\n",
    "The first argument is the plugin name. <br>\n",
    "The second argument is the domain name within that plugin. <br>\n",
    "The third argument is the name of the sound you are enrolling. <br>\n",
    "The forth agument is the path to the audio file, relative to the server. <br>\n",
    "*Note: This path is relative to where the server is running, not the client.* <br>"
   ]
  },
  {
   "cell_type": "code",
   "execution_count": null,
   "metadata": {},
   "outputs": [],
   "source": [
    "who = 'joshua'\n",
    "success = client.enroll('sdd-sbcEmbed-v1b-py3', 'telClosetalk-v1', who, 'doc\\joshua2.wav')\n",
    "if success:\n",
    "    print('Successfully enrolled {} in {} {}'.format(who, 'sdd-sbcEmbed-v1b-py3', 'telClosetalk-v1'))\n",
    "else:\n",
    "    print('Enrollment of {} failed.'.format(who))\n",
    "    quit(1)"
   ]
  },
  {
   "cell_type": "markdown",
   "metadata": {},
   "source": [
    "The analyze_regions function does the region analysis.\n",
    "The first argument is the plugin name. <br>\n",
    "The second argument is the domain name within that plugin. <br>\n",
    "The third agument is the path to the audio file, relative to the server. <br>\n",
    "*Note: This path is relative to where the server is running, not the client.* <br>"
   ]
  },
  {
   "cell_type": "code",
   "execution_count": null,
   "metadata": {},
   "outputs": [],
   "source": [
    "regions = client.analyze_regions('sdd-sbcEmbed-v1b-py3', 'telClosetalk-v1', 'doc\\TwoSpeakers.wav')"
   ]
  },
  {
   "cell_type": "markdown",
   "metadata": {},
   "source": [
    "The analyze_regions function returns a list of tuples, each of which has a class_id, start_t, end_t, and a score."
   ]
  },
  {
   "cell_type": "code",
   "execution_count": null,
   "metadata": {},
   "outputs": [],
   "source": [
    "for region in regions:\n",
    "    print('{} {}-{} {}'.format(region.class_id, region.start_t, region.end_t, region.score))"
   ]
  },
  {
   "cell_type": "markdown",
   "metadata": {},
   "source": [
    "## Third Example: Run A Global Analysis Using the LID Plugin\n",
    "\n",
    "The first argument is the plugin name. <br>\n",
    "The second argument is the domain name within that plugin. <br>\n",
    "The third agument is the path to the audio file, relative to the server. <br>\n",
    "*Note: This path is relative to where the server is running, not the client.* <br>"
   ]
  },
  {
   "cell_type": "code",
   "execution_count": null,
   "metadata": {},
   "outputs": [],
   "source": [
    "results = client.analyze_global('lid-embedplda-v1b-py3', 'multi-v1', 'doc\\TwoSpeakers.wav')"
   ]
  },
  {
   "cell_type": "markdown",
   "metadata": {},
   "source": [
    "The analyze_global function returns a list of tuples, each of which has a class_id and a score. \n",
    "\n",
    "The class_id text returned depends on the plugin used.  In this example, we are using the Language IDentification (LID) plugin, so the class_ids are three letter language codes (ISO 639-2):"
   ]
  },
  {
   "cell_type": "code",
   "execution_count": null,
   "metadata": {},
   "outputs": [],
   "source": [
    "rus = eng = \"n/a\"\n",
    "for result in results:\n",
    "    if result.class_id == 'eng':\n",
    "        eng = result.score\n",
    "    if result.class_id == 'rus':\n",
    "        rus = result.score\n",
    "print('Got {} results.  Eng is {} and rus is {}.'.format(len(results), eng, rus))  "
   ]
  },
  {
   "cell_type": "markdown",
   "metadata": {},
   "source": [
    "## Error Handling\n",
    "\n",
    "Most of the time you do not need to catch the ExceptionFromServer exceptions specifically when calling the server, because whatever exception handling you are doing \"above\" the call will handle these errors along with the rest.  However, all of the analyze and enroll function calls will raise an ExceptionFromServer exception if any exception occured on the server side while doing the work requested by the call."
   ]
  },
  {
   "cell_type": "code",
   "execution_count": null,
   "metadata": {},
   "outputs": [],
   "source": [
    "try:\n",
    "    results = client.analyze_global('lid-nothere', 'multi-v1', 'doc\\TwoSpeakers.wav')\n",
    "    if len(results) != 19:\n",
    "        # We were expecting 19 language results, but got some other number...\n",
    "        raise Exception('Got wrong number of language results.  Got %d, expected 19.' % len(results))\n",
    "except oc.ExceptionFromServer:\n",
    "    print('Got an exception from the server while doing this analysis: '+ str(ExceptionFromServer))"
   ]
  },
  {
   "cell_type": "markdown",
   "metadata": {},
   "source": [
    "The most common causes of exceptions from the server from the server are:\n",
    "* Mispelling the name of the audio file or using a relative path which is not relative from the server.  (Absolute paths are often easier to use.)\n",
    "* Mispelling the plugin or domain names.\n",
    "* Trying to use a plugin that the server had not loaded.\n",
    "\n",
    "Remember that if you try to connect to a server that is not running, or not running where you expect it to be, you will not get an exception: your script will just wait forever.\n",
    "\n",
    "## Getting More Information on Errors\n",
    "\n",
    "There are two extra pieces of information available for all calls to the server: info and fullobj.<br>\n",
    "**Info** is a string that the server may return which contains extra information about the call.  It might contain more information on both succeses and failures, but the server may not provide info for all calls.<br>\n",
    "**fullobj** is the raw protobuf Python object returned from the remote call to the server.  It may contain information useful for troubleshooting.<br>\n",
    "\n",
    "Below is an example of use, in an enroll call fails:"
   ]
  },
  {
   "cell_type": "code",
   "execution_count": null,
   "metadata": {},
   "outputs": [],
   "source": [
    "success = client.enroll('sid-embed-v5-py3', 'multilang-v1', 'joshua', 'non-existant-file')\n",
    "if not success:\n",
    "    info = self.client.get_info()\n",
    "    print('Enrollment failed because: '+info)\n",
    "    fullobj = self.client.get_fullobj()\n",
    "    print(str(fullobj))\n",
    "else:\n",
    "    print('Enrollment was successful.')"
   ]
  },
  {
   "cell_type": "markdown",
   "metadata": {},
   "source": [
    "## Sending Data To The Server\n",
    "\n",
    "In the previous examples we have send the path of the sound file on the server to the server.\n",
    "However, if the sound file is on the client, we can send it over the network like this:"
   ]
  },
  {
   "cell_type": "code",
   "execution_count": null,
   "metadata": {},
   "outputs": [],
   "source": [
    "with open('..\\..\\..\\..\\..\\..\\doc\\TwoSpeakers.wav', \"rb\") as wav_file:\n",
    "    audio_buffer = wav_file.read()\n",
    "regions = client.analyze_regions('qbe-tdnn-v7-py3', 'multi-v1',\n",
    "                                 audio_buffer, self.client.AUDIO_SERIALIZED)\n",
    "\n",
    "print('Results for qbe-tdnn-v7-py3, multi-v1, serialized doc\\TwoSpeakers.wav')\n",
    "for region in regions:\n",
    "    print('{} {}-{} {}'.format(region.class_id, region.start_t, region.end_t, region.score))    "
   ]
  },
  {
   "cell_type": "markdown",
   "metadata": {},
   "source": [
    "## The End\n",
    "Since we connected to a server, we now must disconnect."
   ]
  },
  {
   "cell_type": "code",
   "execution_count": null,
   "metadata": {},
   "outputs": [],
   "source": [
    "client.disconnect()"
   ]
  },
  {
   "cell_type": "markdown",
   "metadata": {},
   "source": [
    "# Multi Threaded / Async Example\n",
    "\n",
    "In this section you will be walked through creating a program which does many Olive enrollments at the same time.  This same idea can be used for doing many analysis runs at once.\n",
    "\n",
    "**The key point is this: A different OliveClient object should be used for each thread.** <br>\n",
    "Just as if you are doing multiprocessing, when each process uses its own Olive Client object.  The same is true for threads.  You can think of an OliveClient as a stream of requests to the Olive server; after each request it will wait for a reponse.  If you want to send many requests at the same time, you need many OliveClient objects to do it.\n",
    "\n",
    "## Enroll A Class In Many Plugins At Once (with Different Threads For Each Plugin)\n",
    "\n",
    "We start with the imports for multithreading and using the Olive client:"
   ]
  },
  {
   "cell_type": "code",
   "execution_count": null,
   "metadata": {},
   "outputs": [],
   "source": [
    "import threading\n",
    "import olivepy.api.oliveclient as oc"
   ]
  },
  {
   "cell_type": "markdown",
   "metadata": {},
   "source": [
    "This function is going to do the \"heavy lifting\".  Each thread will run this function to create a client, connect to the server, and enroll in one plugin/domain pair.  The important part is that it creates and uses it's own OliveClient object.  This ensures that it will wait for its own enrollment to finish before continuing.  "
   ]
  },
  {
   "cell_type": "code",
   "execution_count": null,
   "metadata": {},
   "outputs": [],
   "source": [
    "def do_global_analyze(plugin, domain, enroll, wav):\n",
    "    thread_name = threading.current_thread().getName()\n",
    "    client = oc.OliveClient(thread_name+'cient')\n",
    "    client.connect()\n",
    "    print('On {} enrolling {} into {}#{} with {}'.format(thread_name, enroll, plugin, domain, wav))\n",
    "    results = client.enroll(plugin, domain, enroll, wav)\n",
    "    print('On {} result from {}-{} on {}: {}'.format(thread_name, plugin, domain, wav, results))\n",
    "    client.disconnect()"
   ]
  },
  {
   "cell_type": "markdown",
   "metadata": {},
   "source": [
    "This function is only needed for multithreaded programs.  For those programs, you must call this function from the main thread, so it can properly set up your signals so that control-C will exit your program."
   ]
  },
  {
   "cell_type": "code",
   "execution_count": null,
   "metadata": {},
   "outputs": [],
   "source": [
    "oc.OliveClient.setup_multithreading() "
   ]
  },
  {
   "cell_type": "markdown",
   "metadata": {},
   "source": [
    "The global_plugins list contains the data used by each thread, and the rest of the program just creates the threads and athen waits for them to complete."
   ]
  },
  {
   "cell_type": "code",
   "execution_count": null,
   "metadata": {},
   "outputs": [],
   "source": [
    "threads = []\n",
    "work_tasks = [ ['sid-embed-v5-py3', 'multilang-v1', 'doc\\joshua2.wav'],\n",
    "               ['sid-embed-v5-py3', 'multilang-v1', 'doc\\joshua2.wav'], \n",
    "               ['sdd-sbcEmbed-v1b-py3', 'telClosetalk-v1', 'doc\\joshua2.wav'],\n",
    "               ['tpd-embed-v1-py3', 'eng-cts-v1', '..\\testdata\\TaadA_1min.wav'],\n",
    "               ['tpd-embed-v1-py3', 'rus-cts-v1', '..\\testdata\\TaadA_1min.wav'],\n",
    "               ['qbe-tdnn-v7-py3', 'digPtt-v1', 'doc\\short1.wav'],\n",
    "               ['qbe-tdnn-v7-py3', 'multi-v1', 'doc\\short1.wav'], ]\n",
    "\n",
    "for work_task in work_tasks:\n",
    "    t = threading.Thread(target=do_global_analyze, args=(work_task[0], work_task[1], 'joshua', work_task[2]))\n",
    "    threads.append(t)\n",
    "    t.start()\n",
    "\n",
    "for num in range(len(work_tasks)):\n",
    "    threads[num].join()"
   ]
  },
  {
   "cell_type": "markdown",
   "metadata": {},
   "source": [
    "## All The Code Together\n",
    "Below is the entire program:"
   ]
  },
  {
   "cell_type": "code",
   "execution_count": null,
   "metadata": {},
   "outputs": [],
   "source": [
    "import threading\n",
    "\n",
    "import olivepy.api.oliveclient as oc\n",
    "\n",
    "threads = []\n",
    "work_tasks = [ ['sid-embed-v5-py3', 'multilang-v1', 'doc\\joshua2.wav'],\n",
    "               ['sid-embed-v5-py3', 'multilang-v1', 'doc\\joshua2.wav'], \n",
    "               ['sdd-sbcEmbed-v1b-py3', 'telClosetalk-v1', 'doc\\joshua2.wav'],\n",
    "               ['tpd-embed-v1-py3', 'eng-cts-v1', '..\\testdata\\TaadA_1min.wav'],\n",
    "               ['tpd-embed-v1-py3', 'rus-cts-v1', '..\\testdata\\TaadA_1min.wav'],\n",
    "               ['qbe-tdnn-v7-py3', 'digPtt-v1', 'doc\\short1.wav'],\n",
    "               ['qbe-tdnn-v7-py3', 'multi-v1', 'doc\\short1.wav'], ]\n",
    "\n",
    "def do_global_analyze(plugin, domain, enroll, wav):\n",
    "    thread_name = threading.current_thread().getName()\n",
    "    client = oc.OliveClient(thread_name+'cient')\n",
    "    client.connect()\n",
    "    print('On {} enrolling {} into {}#{} with {}'.format(thread_name, enroll, plugin, domain, wav))\n",
    "    results = client.enroll(plugin, domain, enroll, wav)\n",
    "    print('On {} result from {}-{} on {}: {}'.format(thread_name, plugin, domain, wav, results))\n",
    "    client.disconnect()\n",
    "    \n",
    "oc.OliveClient.setup_multithreading()    \n",
    "\n",
    "for work_task in work_tasks:\n",
    "    t = threading.Thread(target=do_global_analyze, args=(work_task[0], work_task[1], 'joshua', work_task[2]))\n",
    "    threads.append(t)\n",
    "    t.start()\n",
    "\n",
    "for num in range(len(work_tasks)):\n",
    "    threads[num].join()"
   ]
  },
  {
   "cell_type": "markdown",
   "metadata": {},
   "source": [
    "# Specific Examples\n",
    "\n",
    "## Filter For Languages in LID\n",
    "\n",
    "TBD"
   ]
  },
  {
   "cell_type": "code",
   "execution_count": null,
   "metadata": {},
   "outputs": [],
   "source": [
    "wanted_classes = [ 'eng', 'rus']\n",
    "filtered_results = {}\n",
    "try:\n",
    "    results = client.analyze_global('lid-embedplda-v1b-py3', 'multi-v1', 'doc\\TwoSpeakers.wav')\n",
    "    for possible in results:\n",
    "        if possible.class_id in wanted_classes:\n",
    "            filtered_results.add(possible.class_id, possible.score)\n",
    "except oc.ExceptionFromServer:\n",
    "    print('Got an exception from the server while doing this analysis: '+ str(ExceptionFromServer))\n",
    "    \n",
    "print filtered_results    "
   ]
  },
  {
   "cell_type": "markdown",
   "metadata": {},
   "source": [
    "## Filter For Languages by minimum score\n",
    "\n",
    "TBD"
   ]
  },
  {
   "cell_type": "code",
   "execution_count": null,
   "metadata": {},
   "outputs": [],
   "source": [
    "minimum_level = 5\n",
    "filtered_results = {}\n",
    "try:\n",
    "    results = client.analyze_global('lid-embedplda-v1b-py3', 'multi-v1', 'doc\\TwoSpeakers.wav')\n",
    "    for possible in results:\n",
    "        if possible.score > minimum_level:\n",
    "            filtered_results.add(possible.class_id, possible.score)\n",
    "except oc.ExceptionFromServer:\n",
    "    print('Got an exception from the server while doing this analysis: '+ str(ExceptionFromServer))\n",
    "    \n",
    "print filtered_results"
   ]
  }
 ],
 "metadata": {
  "kernelspec": {
   "display_name": "Python 3",
   "language": "python",
   "name": "python3"
  },
  "language_info": {
   "codemirror_mode": {
    "name": "ipython",
    "version": 3
   },
   "file_extension": ".py",
   "mimetype": "text/x-python",
   "name": "python",
   "nbconvert_exporter": "python",
   "pygments_lexer": "ipython3",
   "version": "3.8.1"
  }
 },
 "nbformat": 4,
 "nbformat_minor": 4
}